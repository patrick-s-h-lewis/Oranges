{
 "cells": [
  {
   "cell_type": "markdown",
   "metadata": {},
   "source": [
    "# Corpus Generator\n",
    "Generates a corpus for training "
   ]
  },
  {
   "cell_type": "code",
   "execution_count": 30,
   "metadata": {
    "collapsed": false,
    "scrolled": true
   },
   "outputs": [],
   "source": [
    "import pymongo\n",
    "from pymongo import MongoClient\n",
    "import nltk\n",
    "from nltk.corpus import stopwords\n",
    "import json\n",
    "import string\n",
    "import codecs\n",
    "import gensim \n",
    "from gensim import corpora, models\n",
    "from collections import Counter\n",
    "import re\n",
    "import csv\n",
    "import math\n",
    "import matplotlib.pyplot as plt\n",
    "import numpy as np\n",
    "import sys\n",
    "import nltk.stem\n",
    "import os\n",
    "punct_filter = [u'\"',u'#',u'$',u'%',u'&',u'\\\\',u\"'\",u'(',u')',u'*',u'+',u',',u'.',u'/',\n",
    "     u'-',u':',u';',u'<',u'=',u'>',u'?',u'@',u'[',u']',u'^',u'_',u'`',u'{',\n",
    "     u'|',u'}',u'–',u'\\u2013',u'\\u2010',u'\\u2606',u'\\u22C5',u'\\u201D',u'\\u2248',u'\\u21CC',u'\\u223C',u'\\u2212',u'\\u2014',u'\\u2032',u'\\u2018',u'\\u2019',u'\\u2022',u'\\u2020',u'\\u00B0',u'\\u201C',u'\\u29B9',u'\\uFF0D',u'\\u2261']\n",
    "stop = stopwords.words('english')\n",
    "with open('chemistry_stopwords.json') as f:\n",
    "    chem_stop = json.load(f)\n",
    "max_stop = stop+chem_stop\n",
    "mongo_url = 'mongodb://localhost:6666/'\n",
    "#mongo_url = 'mongodb://localhost:27017/'\n",
    "db = 'Cherry'\n",
    "coll_in = 'Cranberry'\n",
    "client = MongoClient(mongo_url)\n",
    "ch = client[db][coll_in]\n",
    "coops = client[db]['raspberry']\n",
    "#corpusfile = 'corpus2.txt' "
   ]
  },
  {
   "cell_type": "code",
   "execution_count": 31,
   "metadata": {
    "collapsed": true
   },
   "outputs": [],
   "source": [
    "class GensimCorpus(object):\n",
    "    def __init__(self,corpus_text_file,diction):\n",
    "        self.corpus_text_file = corpus_text_file\n",
    "        self.dictionary = diction\n",
    "        \n",
    "    def __iter__(self):\n",
    "        for line in open(self.corpus_text_file):\n",
    "            yield self.dictionary.doc2bow(line.split())\n",
    "\n",
    "def dictionary_generator(corpus_file):\n",
    "    dictionary = corpora.Dictionary(line.split() for line in open(corpus_file))\n",
    "    return dictionary\n",
    "\n",
    "def create_models(corpus_file):\n",
    "    dictionary = dictionary_generator(corpus_file)\n",
    "    print('Created Dictionary')\n",
    "    corp = GensimCorpus(corpus_file,dictionary)\n",
    "    print('Created Corpus Object')\n",
    "    tfidf = models.TfidfModel(corp)\n",
    "    print('Created TFIDF Model')\n",
    "    tfidf_corp = tfidf[corp]\n",
    "    print('Created TFIDF Corpus')\n",
    "    return dictionary,corp,tfidf,tfidf_corp\n",
    "\n",
    "def load_models(dictionary_file,corpus_file,tfidf_file):\n",
    "    dictionary = corpora.Dictionary.load(dictionary_file)\n",
    "    corp = GensimCorpus(corpus_file,dictionary)\n",
    "    tfidf = models.TfidfModel.load(tfidf_file)\n",
    "    tfidf_corp = tfidf[corp]\n",
    "    return dictionary,corp,tfidf,tfidf_corp\n",
    "\n",
    "def tfidf_filtered_corpus_generator(corpus_filename,threshold):\n",
    "    corpus_filename = 'tfidf_filtered_'+str(threshold).strip('.')+'.txt'\n",
    "    ind=0\n",
    "    with codecs.open(corpus_filename,'a',encoding='utf8') as f:\n",
    "        for doc in tfidf_corp:\n",
    "            if ind%500000 == 0:\n",
    "                print(ind)\n",
    "            f.write(' '.join([dictionary[i] for i,j in doc if j>=threshold]))\n",
    "            f.write('\\n')\n",
    "            ind+=1\n",
    "\n",
    "def remove_unicode_punct(subj, chars):\n",
    "    return re.sub(u'(?u)[' + re.escape(''.join(chars)) + ']', ' ', subj)\n",
    "                \n",
    "def create_cranberry_corpus(file_name,sanitizer):\n",
    "    ind = 0 \n",
    "    with codecs.open(file_name,'a',encoding='utf8') as f:\n",
    "        for rec in ch.find({'crossref_doi':True}):\n",
    "            ex = sanitizer(rec['title'])+u'\\n'\n",
    "            f.write(export)\n",
    "            ind+=1\n",
    "            if ind%100000==0:\n",
    "                print(ind)\n",
    "    \n",
    "def create_raspberry_corpus(file_name,sanitizer):\n",
    "    ind = 0 \n",
    "    with codecs.open(file_name,'a',encoding='utf8') as f:\n",
    "        for rec in coops.find({'abstract': {'$exists': True}, '$where': \"this.abstract.length>0\"}):\n",
    "            san_title = sanitizer(rec['title'])\n",
    "            san_abs = sanitizer(rec['abstract'])\n",
    "            f.write(san_title+' '+san_abs+'\\n')\n",
    "            ind+=1\n",
    "            if ind%10000==0:\n",
    "                print(ind)"
   ]
  },
  {
   "cell_type": "code",
   "execution_count": 32,
   "metadata": {
    "collapsed": true
   },
   "outputs": [],
   "source": [
    "####Filterers\n",
    "\n",
    "def stop_word_sanitise(title,stops):\n",
    "    #lower case, strip whitespace and carriages, remove stopwords, remove punctuation\n",
    "    lt = title.lower()\n",
    "    slt = lt.strip()\n",
    "    tslt = remove_unicode_punct(slt,punct_filter)\n",
    "    stop_filtered = [i for i in tslt.split() if i not in stops]\n",
    "    export = u' '.join(stop_filtered)\n",
    "    return export\n",
    "\n",
    "def minimal_sanitise(title):\n",
    "    #lower case, strip whitespace and carriages, remove punctuation\n",
    "    lt = title.lower()\n",
    "    slt = lt.strip()\n",
    "    tslt = remove_unicode_punct(slt,punct_filter)\n",
    "    export = tslt.strip()\n",
    "    return export\n",
    "\n",
    "def stemming_sanitise(title,stops,stemmer):\n",
    "    #lower case, strip whitespace and carriages, remove punctuation, remove stopwords, stem\n",
    "    lt = title.lower()\n",
    "    slt = lt.strip()\n",
    "    tslt = remove_unicode_punct(slt,punct_filter)\n",
    "    stop_filtered = [i for i in tslt.split() if i not in stops]\n",
    "    stem_filtered = [stemmer.stem(i) for i in stop_filtered]\n",
    "    export = u' '.join(stem_filtered)\n",
    "    return export\n",
    "    \n",
    "def lemmatizing_sanitise(title,stops,lemmatizer):\n",
    "    #lower case, strip whitespace and carriages, remove punctuation, remove stopwords, lemmatize\n",
    "    lt = title.lower()\n",
    "    slt = lt.strip()\n",
    "    tslt = remove_unicode_punct(slt,punct_filter)\n",
    "    stop_filtered = [i for i in tslt.split() if i not in stops]\n",
    "    lemma_filtered = [lemmatizer.lemmatize(words) for words in stop_filtered]\n",
    "    export = u' '.join(lemma_filtered)\n",
    "    return export"
   ]
  },
  {
   "cell_type": "code",
   "execution_count": 33,
   "metadata": {
    "collapsed": false
   },
   "outputs": [],
   "source": [
    "def get_corpus_stats(in_file,diction,outfile_name):\n",
    "    unique_word_count=0\n",
    "    for k in diction.iterkeys():\n",
    "        if unique_word_count<k:\n",
    "            unique_word_count=k\n",
    "    print('Counted Unique Words')\n",
    "    word_freq = Counter()\n",
    "    word_count = 0\n",
    "    document_count = 0\n",
    "    document_lengths = Counter()\n",
    "    interim_corp = GensimCorpus(in_file,diction)\n",
    "    ind=0\n",
    "    for doc in interim_corp:\n",
    "        word_count+=sum(zip(*doc)[1])\n",
    "        document_count+=1\n",
    "        document_lengths.update([sum(zip(*doc)[1])])\n",
    "        upd = []\n",
    "        for w_id,w_freq in doc:\n",
    "            upd+=([w_id]*w_freq)\n",
    "        word_freq.update(upd)\n",
    "        ind+=1\n",
    "        if ind%10000==0:\n",
    "            sys.stdout.write('\\r[{0}] {1}'.format('#'*(ind/10000), ind))\n",
    "            sys.stdout.flush()\n",
    "    mean_doc_length = float(word_count)/float(document_count)\n",
    "    mode_doc_length = document_lengths.most_common(1)[0]\n",
    "    print('\\nGenerated Counting Stats')\n",
    "    ranked_word_freq = word_freq.most_common()\n",
    "    ziphian_table = []\n",
    "    for rank in range(unique_word_count):\n",
    "        w = dictionary[ranked_word_freq[rank][0]].encode('utf-8')\n",
    "        r = rank+1\n",
    "        log_r = math.log(r,10)\n",
    "        f = ranked_word_freq[rank][1]\n",
    "        log_f = math.log(f,10)\n",
    "        ziphian_table.append((w,r,log_r,f,log_f))\n",
    "    print('Generated Ziphian Data')\n",
    "    sample = []\n",
    "    log_ranks = list(zip(*ziphian_table)[2])\n",
    "    for s in np.arange(ziphian_table[0][2],ziphian_table[-1][2],ziphian_table[1][2]):   \n",
    "        sample.append(log_ranks.index(min(log_ranks,key=lambda x:abs(x-s))))\n",
    "    z_grad,z_c = np.polyfit([ziphian_table[s][2] for s in sample],[ziphian_table[s][4] for s in sample],1)\n",
    "    line_freq = map(lambda x: z_grad*x+z_c,log_ranks)\n",
    "    plt.close()\n",
    "    plt.plot(log_ranks,list(zip(*ziphian_table)[4]),'r')\n",
    "    plt.plot(log_ranks,line_freq,'b')\n",
    "    plt.savefig(outfile_name+'_ziphian_plot.png')\n",
    "    print('Saved Ziphian Plot')\n",
    "    plt.close()\n",
    "    plt.plot(document_lengths.keys(),document_lengths.values(),'o')\n",
    "    plt.savefig(outfile_name+'_document_word_lengths.png')\n",
    "    plt.close()\n",
    "    print('Saved Document Length Distribution Plot')\n",
    "    with open(outfile_name+'_ziphian_data.csv', 'wb') as csvfile:\n",
    "        writer = csv.writer(csvfile, delimiter=',',quotechar='|', quoting=csv.QUOTE_MINIMAL)\n",
    "        writer.writerow(['word','rank','log rank','freqency','log_frequncy'])\n",
    "        writer.writerows(ziphian_table)\n",
    "    print('Writen Ziphian Data To file')\n",
    "    with open(outfile_name+'_document_lengths.csv', 'wb') as csvfile:\n",
    "        writer = csv.writer(csvfile, delimiter=',',quotechar='|', quoting=csv.QUOTE_MINIMAL)\n",
    "        writer.writerow(['words per document','number of documents'])\n",
    "        writer.writerows(zip(document_lengths.keys(),document_lengths.values()))\n",
    "    print('Writen Document Length Distribution data to file')\n",
    "    with open(outfile_name+'stats.txt','wb') as f:\n",
    "        f.write('Word count : '+str(word_count)+'\\n')\n",
    "        f.write('Unique words : ' + str(unique_word_count)+'\\n')\n",
    "        f.write('Mean document word count : ' + str(mean_doc_length)+'\\n')\n",
    "        f.write('Mode document word count : '+ str(mode_doc_length[0])+'\\n')\n",
    "        f.write('Document count : ' + str(document_count)+'\\n')\n",
    "        f.write('Ziphian gradient : '+str(z_grad)+'\\n')\n",
    "        f.write('Ziphian intercept : '+str(z_c)+'\\n')\n",
    "        f.write('most_frequent 10 words : '+'\\n')\n",
    "        for w in ziphian_table[0:10]:\n",
    "            f.write('\"'+w[0]+'\" : '+str(w[3])+' occurances\\n')\n",
    "    print('Written stats report to file')"
   ]
  },
  {
   "cell_type": "code",
   "execution_count": 202,
   "metadata": {
    "collapsed": true
   },
   "outputs": [
    {
     "name": "stdout",
     "output_type": "stream",
     "text": [
      "10000\n",
      "20000\n",
      "30000\n",
      "40000\n",
      "50000\n",
      "60000\n",
      "70000\n",
      "80000\n",
      "90000\n",
      "100000\n",
      "110000\n",
      "120000\n",
      "130000\n",
      "140000\n",
      "150000\n",
      "160000\n",
      "170000\n",
      "180000\n",
      "190000\n",
      "200000\n",
      "210000\n",
      "220000\n",
      "230000\n",
      "240000\n",
      "250000\n",
      "260000\n",
      "270000\n",
      "280000\n",
      "290000\n",
      "300000\n",
      "310000\n",
      "320000\n",
      "330000\n",
      "340000\n",
      "350000\n",
      "360000\n",
      "370000\n",
      "380000\n",
      "390000\n",
      "400000\n",
      "410000\n",
      "420000\n",
      "430000\n",
      "440000\n",
      "Created Dictionary\n",
      "Created Corpus Object\n",
      "Created TFIDF Model\n",
      "Created TFIDF Corpus\n",
      "Counted Unique Words\n",
      "[############################################] 440000\n",
      "Generated Counting Stats\n",
      "Generated Ziphian Data\n",
      "Saved Ziphian Plot\n",
      "Saved Document Length Distribution Plot\n",
      "Writen Ziphian Data To file\n",
      "Writen Document Length Distribution data to file\n",
      "Written stats report to file\n"
     ]
    }
   ],
   "source": [
    "stemmer = nltk.stem.snowball.EnglishStemmer()\n",
    "create_raspberry_corpus('stemmed_raspberry_corpus.txt',lambda x: stemming_sanitise(x,max_stop,stemmer))\n",
    "dictionary, corpus, tfidf_model,tfidf_corpus = create_models('stemmed_raspberry_corpus.txt')\n",
    "dictionary.save('stemmed_raspberry_dictionary')\n",
    "tfidf_model.save('stemmed_raspberry_tfidf_model')\n",
    "tfidf_corpus.save('stemmed_raspberry_tfidf_corpus')\n",
    "#dictionary,corp,tfidf,tfidf_corp = load_models('raw_raspberry_dictionary','raw_raspberry_corpus.txt','raw_raspberry_tfidf_model')\n",
    "get_corpus_stats('stemmed_raspberry_corpus.txt',dictionary,'stemmed_raspberry')"
   ]
  },
  {
   "cell_type": "code",
   "execution_count": 34,
   "metadata": {
    "collapsed": false
   },
   "outputs": [],
   "source": [
    "def compare_stemmers(dictionary,outfile_name):\n",
    "    it = dictionary.iteritems()\n",
    "    lancaster_reps=0\n",
    "    porter_reps=0\n",
    "    snowball_reps=0\n",
    "    wordnet_reps=0\n",
    "    lancaster_porter_agreements = 0\n",
    "    lancaster_snowball_agreements = 0\n",
    "    lancaster_wordnet_agreements = 0\n",
    "    porter_snowball_agreements = 0\n",
    "    porter_wordnet_agreements = 0\n",
    "    snowball_wordnet_agreements=0\n",
    "    ind=0\n",
    "    with open(outfile_name, 'wb') as f:\n",
    "        writer = csv.writer(f, delimiter=',',quotechar='|', quoting=csv.QUOTE_MINIMAL)\n",
    "        writer.writerow(['word','lancaster','porter','snowball','wordnet'])\n",
    "        for w_id,w in it:\n",
    "            wl = lancaster.stem(w)\n",
    "            wp = porter.stem(w)\n",
    "            ws = snowball.stem(w)\n",
    "            ww = wordnet.lemmatize(w)\n",
    "            wl_fire = w!=wl\n",
    "            wp_fire = w!=wp\n",
    "            ws_fire = w!=ws\n",
    "            ww_fire = w!=ww\n",
    "            lancaster_reps+=int(wl_fire)\n",
    "            porter_reps+=int(wp_fire)\n",
    "            snowball_reps+=int(ws_fire)\n",
    "            wordnet_reps+=int(ww_fire)\n",
    "            if (wl_fire|wp_fire|ws_fire|ww_fire):\n",
    "                row = [w.encode('utf-8'),'','','','']\n",
    "                if wl_fire: row[1]=wl.encode('utf-8')\n",
    "                if wp_fire: row[2]=wp.encode('utf-8')\n",
    "                if ws_fire: row[3]=ws.encode('utf-8')\n",
    "                if ww_fire: row[4]=ww.encode('utf-8')\n",
    "                writer.writerow(row)\n",
    "                lancaster_porter_agreements +=int(wl==wp)\n",
    "                lancaster_snowball_agreements +=int(wl==ws)\n",
    "                lancaster_wordnet_agreements +=int(wl==ww)\n",
    "                porter_snowball_agreements +=int(wp==ws)\n",
    "                porter_wordnet_agreements +=int(wp==ww)\n",
    "                snowball_wordnet_agreements +=int(ws==ww)\n",
    "            if ind%10000==0:\n",
    "                sys.stdout.write('\\r[{0}] {1}'.format('#'*(ind/10000), ind))\n",
    "                sys.stdout.flush()\n",
    "            ind+=1\n",
    "    print('finished')\n",
    "    print('lancaster replacements: '+str(lancaster_reps))\n",
    "    print('porter replacements: '+str(porter_reps))\n",
    "    print('snowball replacements: '+str(snowball_reps))\n",
    "    print('wordnet replacements: '+str(wordnet_reps))\n",
    "    print('lancaster_porter_agreements: ' + str(lancaster_porter_agreements))\n",
    "    print('lancaster_snowball_agreements: ' +str(lancaster_snowball_agreements))\n",
    "    print('lancaster_wordnet_agreements: '+str(lancaster_wordnet_agreements))\n",
    "    print('porter_snowball_agreements: '+str(porter_snowball_agreements))\n",
    "    print('porter_wordnet_agreements: '+str(porter_wordnet_agreements))\n",
    "    print('snowball_wordnet_agreements: '+str(snowball_wordnet_agreements))"
   ]
  },
  {
   "cell_type": "code",
   "execution_count": 13,
   "metadata": {
    "collapsed": false
   },
   "outputs": [
    {
     "name": "stdout",
     "output_type": "stream",
     "text": [
      "Created Dictionary\n",
      "Created Corpus Object\n",
      "Created TFIDF Model\n",
      "Created TFIDF Corpus\n",
      "Counted Unique Words\n",
      "[##########] 100000\n",
      "Generated Counting Stats\n",
      "Generated Ziphian Data\n",
      "Saved Ziphian Plot\n",
      "Saved Document Length Distribution Plot\n",
      "Writen Ziphian Data To file\n",
      "Writen Document Length Distribution data to file\n",
      "Written stats report to file\n"
     ]
    }
   ],
   "source": [
    "#create_raspberry_corpus('corpnatural.txt',minimal_sanitise)\n",
    "dictionary, corpus, tfidf_model,tfidf_corpus = create_models('corpnatural.txt')\n",
    "dictionary.save('corpnatural_dictionary')\n",
    "tfidf_model.save('corpnatural_tfidf_model')\n",
    "tfidf_corpus.save('corpnatural_tfidf_corpus')\n",
    "#dictionary,corp,tfidf,tfidf_corp = load_models('raw_raspberry_dictionary','raw_raspberry_corpus.txt','raw_raspberry_tfidf_model')\n",
    "get_corpus_stats('corpnatural.txt',dictionary,'corpnatural')"
   ]
  },
  {
   "cell_type": "code",
   "execution_count": 9,
   "metadata": {
    "collapsed": false,
    "scrolled": true
   },
   "outputs": [
    {
     "name": "stdout",
     "output_type": "stream",
     "text": [
      "traditional colorimetry with Fujiwara reaction2)\n",
      "Thus as shown in Fig\n",
      "was formed abundantly in soil\n",
      "2420m) make a little difference\n",
      "lipid, protein, and nucleic acid\n",
      "superoxide dismutase (SOD) and catalase\n",
      "\r",
      "\r",
      "泌乳牛が暑熱ストレスを受けた場合，どの血液成分が，どのように変化するかを明らかにすると共に，飼料摂取状況や乳生産性との関連性を検討するため，乳牛45頭を分離給与または完全混合飼料（TMR）給与で飼養管理し，１年間に渡って毎月代謝プロファイルテストを実施した．得られた延べ277頭のデータを給与法毎に適温期と暑熱期（６～９月）に分け，各調査項目を比較した．分離給与では適温期に延べ81頭，暑熱期に延べ43頭のデータが得られた．これらを比較した結果，乾物摂取量（DMI, p<0.05），代謝エネルギー摂取量（p<0.01），乳量（p<0.01），乳脂率（p<0.05），乳蛋白質率（p<0.001），ヘマトクリット（Ht, p<0.001），血糖（p<0.001），血清総コレステロール（p<0.01），リン脂質（p<0.001），総蛋白質（p<0.05），カルシウム（p<0.01）およびアスパラギン酸アミノトランスフェラーゼ（AST, p<0.05）が暑熱期に有意な低値を示し，血清β-リポ蛋白（BL, p<0.001）が有意な高値を示した．一方，TMR給与では適温期に延べ110頭，暑熱期に延べ43頭のデータが得られた．これらを比較した結果，飼料摂取状況と乳量に差はなかったが，乳脂率（p<0.05）と乳蛋白質率（p<0.01），Ht（p<0.001）および血清AST（p<0.01）が暑熱期に有意な低値を示し，血清BL（p<0.001）とアルブミン（p<0.01）が有意な高値を示した．以上のように，分離給与では暑熱期にDMIと乳量が低下し，血液成分は13項目中８項目に変化がみられた．一方，TMR給与では暑熱期でもDMIと乳量が低下せず，血液成分は４項目にのみ変化がみられた．従って，暑熱による泌乳牛の血液成分の変化は飼料摂取状況や乳生産性が受けた影響によって異なることが示唆された．\r\n",
      "香北では屋久と比較して, HDL-コレステロールは有意に低値であり, リポ蛋白 (a) は有意に高値であった\n",
      "The results were as follows;1\n",
      "一方, アガロースゲル電気泳動では, 小腸様ALPおよび血液型依存性高分子小腸ALPは1本の収束したバンドとして骨ALP付近の位置 (α2β位) に検出される\n",
      "(Communicated by Teruaki MUKAIYAMA, M.J.A.)\r\n",
      "These variations are very anomalous\n",
      "Flotation tests were carried out\n",
      "Effective solutions are thus mandatary\n",
      "(Communicated by Saburo TAMURA, M.J.A.)\r\n",
      "Please see the retraction notice.\r\n",
      "Two university spin-offs were interviewed\n",
      "Moelwyn-Hughes Oxford: Pergamon Press Ltd\n",
      "\r",
      "\r",
      "シアル酸 (Neu5Ac, Neu5Gc, andKDN) は単糖の中で最も複雑な構造もつ化合物である。シアル酸は分子量320程度の小さな分子にもかかわらず多くの官能基から構成されている。またそれらの官能基が条件によって糖特有の平衡状態とる。このことがシアル酸の合成化学を始めるにあたり難くしている。シアル酸は種々の試薬に大変敏感に反応する性質を持っているので、目的化合物を合成するには経験的な反応条件が必要となる。ここでは、既に報告されている沢山の論文の中からシアル酸の中で最も代表的なN-アセチルノイラミン酸についてNeu5Ac特有の反応と基本的な反応の紹介と、簡単な反応によるNeu5Acの挙動からその化学的な多様性について述べる。\r\n",
      "The IR spectra of devitrified\n",
      "26, 169 (1984) ] .\r\n",
      "\r",
      "\r",
      "高レベル放射性廃棄物を深地層に処分した時の地層中でのTcの移行に関する溶液化学についてまとめた。深地層では地下水は還元性であると考えられる。この条件ではTcはTc (VII)ではなくTc (IV)として存在する。Tc (VII)は鉱物などにほとんど収着されないが,還元されてTc (IV)になるとよく収着される。TcO4-は活性炭によく収着されるがその機構は明確でない。Tcの溶液化学はまだ十分明らかではなく,今後の研究が重要である。\r\n",
      "(Communicated by Hitosi NOZAKI, M.J.A.)\r\n",
      "\r",
      "\r",
      "第2次大戦終了後の1946年より1950年にいたる問に外国にて発表せられた石炭に関する研究を, Chemical Abstr.によつて調査し, 研究者名と内容の大要を列挙した。石炭に関する広範な研究のうち, 「その1」においてはつぎの各項について説明している。(1)石炭の生成に関する研究,(2)組織学的研究,(3)物理学的研究,(4)物理化学的研究,(5)溶剤抽出による研究。これらに関する文献105を挙げた。\r\n",
      "This rapid decline in M\n",
      "The potential role of M\n",
      "after the injection of parotin\n",
      "and 2.0% urethan for 1.0min\n",
      "k(CySH+CH2OH)/k(O2+CH2OH) was calculated as 0.5\n",
      "塩湖では, 乾季に周辺から供給された水が完全に蒸発することで塩が集積し, 雨季に新たに降水が加わることで, 塩濃度が高く, 同位体比はほとんど降水の値に一致する水が形成された\n",
      "河川や湿地において, 水位低下が小さく, 干上がることがない場合は, 同位体比, 塩濃度は蒸発の割合で変化する.\r\n",
      "A direct-action gate is proposed\n",
      "The reaction mechanism is discussed\n",
      "The following results were obtained\n",
      "\r",
      "\r",
      "Ferrocenophosphines have a long history\n",
      "Moelwyn-Hughes London : Pergamon Press\n",
      "3rd edition revised by H\n"
     ]
    }
   ],
   "source": [
    "sentence_lens=[]\n",
    "for rec in coops.find({'abstract': {'$exists': True}, '$where': \"this.abstract.length>0\"})[0:1000]:\n",
    "    abst = rec['abstract']\n",
    "    '''if len(abst.split(u'. '))>20:\n",
    "        lens = map(lambda x: len(x),abst.split(u'. '))\n",
    "        for sent in abst.split(u'. '):\n",
    "            if len(sent.split(u' '))<6:\n",
    "                print(unicode(sent) +u' : ' +str(len(sent.split(u' '))))'''\n",
    "    sents = abst.split(u'. ')\n",
    "    for sent in sents:\n",
    "        s = [i for i in sent.split(' ') if i != '']\n",
    "        if len(s)==5:\n",
    "            print(' '.join(s))"
   ]
  },
  {
   "cell_type": "code",
   "execution_count": 36,
   "metadata": {
    "collapsed": false
   },
   "outputs": [
    {
     "data": {
      "image/png": "[encoded data removed]",
      "text/plain": [
       "<matplotlib.figure.Figure at 0x7fc79dfdd450>"
      ]
     },
     "metadata": {},
     "output_type": "display_data"
    }
   ],
   "source": [
    "c = Counter(sentence_no)\n",
    "plt.plot(c.keys(),c.values())\n",
    "plt.show()"
   ]
  },
  {
   "cell_type": "code",
   "execution_count": 35,
   "metadata": {
    "collapsed": false
   },
   "outputs": [],
   "source": [
    "%matplotlib inline"
   ]
  },
  {
   "cell_type": "code",
   "execution_count": 64,
   "metadata": {
    "collapsed": false
   },
   "outputs": [
    {
     "data": {
      "image/png": "[encoded data removed]",
      "text/plain": [
       "<matplotlib.figure.Figure at 0x7fc79dfbf3d0>"
      ]
     },
     "metadata": {},
     "output_type": "display_data"
    }
   ],
   "source": [
    "cc = Counter(sentence_lens)\n",
    "plt.plot(cc.keys(),cc.values())\n",
    "plt.xlim(0,700)\n",
    "plt.show()"
   ]
  },
  {
   "cell_type": "code",
   "execution_count": 65,
   "metadata": {
    "collapsed": true
   },
   "outputs": [
    {
     "data": {
      "text/plain": [
       "Counter({0: 17708,\n",
       "         1: 27192,\n",
       "         2: 13993,\n",
       "         3: 12898,\n",
       "         4: 9574,\n",
       "         5: 32254,\n",
       "         6: 18110,\n",
       "         7: 21203,\n",
       "         8: 34770,\n",
       "         9: 42265,\n",
       "         10: 51009,\n",
       "         11: 57255,\n",
       "         12: 66710,\n",
       "         13: 75689,\n",
       "         14: 85365,\n",
       "         15: 89844,\n",
       "         16: 95778,\n",
       "         17: 97526,\n",
       "         18: 104899,\n",
       "         19: 102533,\n",
       "         20: 104612,\n",
       "         21: 96155,\n",
       "         22: 93940,\n",
       "         23: 89684,\n",
       "         24: 85387,\n",
       "         25: 80805,\n",
       "         26: 76236,\n",
       "         27: 70850,\n",
       "         28: 65507,\n",
       "         29: 60647,\n",
       "         30: 56084,\n",
       "         31: 50918,\n",
       "         32: 46655,\n",
       "         33: 41930,\n",
       "         34: 38346,\n",
       "         35: 34137,\n",
       "         36: 30713,\n",
       "         37: 27587,\n",
       "         38: 24422,\n",
       "         39: 21296,\n",
       "         40: 19365,\n",
       "         41: 17137,\n",
       "         42: 15085,\n",
       "         43: 13544,\n",
       "         44: 11873,\n",
       "         45: 10459,\n",
       "         46: 9299,\n",
       "         47: 8200,\n",
       "         48: 7090,\n",
       "         49: 6265,\n",
       "         50: 5546,\n",
       "         51: 4838,\n",
       "         52: 4347,\n",
       "         53: 3856,\n",
       "         54: 3398,\n",
       "         55: 2996,\n",
       "         56: 2630,\n",
       "         57: 2337,\n",
       "         58: 2029,\n",
       "         59: 1864,\n",
       "         60: 1577,\n",
       "         61: 1399,\n",
       "         62: 1313,\n",
       "         63: 1159,\n",
       "         64: 1003,\n",
       "         65: 926,\n",
       "         66: 833,\n",
       "         67: 710,\n",
       "         68: 631,\n",
       "         69: 598,\n",
       "         70: 572,\n",
       "         71: 485,\n",
       "         72: 423,\n",
       "         73: 413,\n",
       "         74: 341,\n",
       "         75: 336,\n",
       "         76: 297,\n",
       "         77: 307,\n",
       "         78: 228,\n",
       "         79: 240,\n",
       "         80: 201,\n",
       "         81: 187,\n",
       "         82: 164,\n",
       "         83: 153,\n",
       "         84: 129,\n",
       "         85: 146,\n",
       "         86: 126,\n",
       "         87: 116,\n",
       "         88: 109,\n",
       "         89: 91,\n",
       "         90: 98,\n",
       "         91: 76,\n",
       "         92: 85,\n",
       "         93: 87,\n",
       "         94: 80,\n",
       "         95: 71,\n",
       "         96: 66,\n",
       "         97: 64,\n",
       "         98: 56,\n",
       "         99: 58,\n",
       "         100: 39,\n",
       "         101: 38,\n",
       "         102: 51,\n",
       "         103: 47,\n",
       "         104: 43,\n",
       "         105: 40,\n",
       "         106: 27,\n",
       "         107: 24,\n",
       "         108: 24,\n",
       "         109: 23,\n",
       "         110: 31,\n",
       "         111: 16,\n",
       "         112: 24,\n",
       "         113: 23,\n",
       "         114: 25,\n",
       "         115: 33,\n",
       "         116: 16,\n",
       "         117: 15,\n",
       "         118: 21,\n",
       "         119: 24,\n",
       "         120: 11,\n",
       "         121: 18,\n",
       "         122: 21,\n",
       "         123: 15,\n",
       "         124: 10,\n",
       "         125: 14,\n",
       "         126: 14,\n",
       "         127: 10,\n",
       "         128: 4,\n",
       "         129: 13,\n",
       "         130: 9,\n",
       "         131: 9,\n",
       "         132: 10,\n",
       "         133: 11,\n",
       "         134: 10,\n",
       "         135: 6,\n",
       "         136: 6,\n",
       "         137: 5,\n",
       "         138: 5,\n",
       "         139: 9,\n",
       "         140: 4,\n",
       "         141: 11,\n",
       "         142: 7,\n",
       "         143: 5,\n",
       "         144: 3,\n",
       "         145: 4,\n",
       "         146: 5,\n",
       "         147: 5,\n",
       "         148: 2,\n",
       "         149: 3,\n",
       "         150: 4,\n",
       "         151: 3,\n",
       "         152: 1,\n",
       "         153: 3,\n",
       "         154: 6,\n",
       "         155: 1,\n",
       "         156: 5,\n",
       "         157: 4,\n",
       "         158: 2,\n",
       "         159: 4,\n",
       "         160: 4,\n",
       "         161: 4,\n",
       "         163: 3,\n",
       "         164: 4,\n",
       "         165: 7,\n",
       "         166: 4,\n",
       "         167: 2,\n",
       "         168: 3,\n",
       "         169: 4,\n",
       "         170: 3,\n",
       "         171: 2,\n",
       "         172: 1,\n",
       "         173: 3,\n",
       "         174: 4,\n",
       "         175: 2,\n",
       "         176: 1,\n",
       "         177: 3,\n",
       "         178: 2,\n",
       "         179: 4,\n",
       "         180: 1,\n",
       "         181: 1,\n",
       "         182: 4,\n",
       "         183: 1,\n",
       "         184: 2,\n",
       "         185: 1,\n",
       "         186: 1,\n",
       "         187: 1,\n",
       "         188: 2,\n",
       "         189: 1,\n",
       "         190: 2,\n",
       "         191: 2,\n",
       "         192: 2,\n",
       "         193: 2,\n",
       "         194: 2,\n",
       "         196: 2,\n",
       "         197: 1,\n",
       "         198: 1,\n",
       "         199: 2,\n",
       "         200: 2,\n",
       "         203: 2,\n",
       "         204: 1,\n",
       "         205: 1,\n",
       "         208: 2,\n",
       "         209: 4,\n",
       "         211: 1,\n",
       "         213: 2,\n",
       "         214: 1,\n",
       "         215: 1,\n",
       "         217: 1,\n",
       "         218: 1,\n",
       "         219: 1,\n",
       "         220: 1,\n",
       "         222: 1,\n",
       "         223: 2,\n",
       "         226: 1,\n",
       "         228: 1,\n",
       "         230: 1,\n",
       "         233: 1,\n",
       "         234: 1,\n",
       "         237: 2,\n",
       "         239: 1,\n",
       "         240: 1,\n",
       "         243: 1,\n",
       "         245: 1,\n",
       "         246: 2,\n",
       "         251: 1,\n",
       "         253: 1,\n",
       "         255: 1,\n",
       "         257: 1,\n",
       "         264: 1,\n",
       "         265: 1,\n",
       "         267: 1,\n",
       "         269: 1,\n",
       "         272: 1,\n",
       "         273: 2,\n",
       "         279: 1,\n",
       "         280: 1,\n",
       "         287: 1,\n",
       "         288: 1,\n",
       "         304: 1,\n",
       "         306: 1,\n",
       "         309: 1,\n",
       "         334: 1,\n",
       "         338: 1})"
      ]
     },
     "execution_count": 65,
     "metadata": {},
     "output_type": "execute_result"
    }
   ],
   "source": [
    "cc"
   ]
  },
  {
   "cell_type": "code",
   "execution_count": 55,
   "metadata": {
    "collapsed": false
   },
   "outputs": [],
   "source": [
    "s='The humite group minerals and HyM-α proposed in this study make a homologous series as recombination structures: Mg(2                                                          m                                                        +                                                          n                                                        )Si                              m                            H2                                                          n                            O2(2                                                          m                                                        +                                                          n                                                        ) for the humite group and Mg(2                                                          m                                                        +                                                          n                                                        )Si(                                                          m                                                        +                                                          n                                                        )H2                                                          n                            O4(                                                          m                                                        +                                                          n                                                        ) for HyM-α A characteristic feature is that Mg/Si > 2 for the humite group and Mg/Si < 2 for HyM-α'"
   ]
  },
  {
   "cell_type": "code",
   "execution_count": 62,
   "metadata": {
    "collapsed": false
   },
   "outputs": [
    {
     "data": {
      "text/plain": [
       "'The humite group minerals and HyM-\\xce\\xb1 proposed in this study make a homologous series as recombination structures: Mg(2 m + n )Si m H2 n O2(2 m + n ) for the humite group and Mg(2 m + n )Si( m + n )H2 n O4( m + n ) for HyM-\\xce\\xb1 A characteristic feature is that Mg/Si > 2 for the humite group and Mg/Si < 2 for HyM-\\xce\\xb1'"
      ]
     },
     "execution_count": 62,
     "metadata": {},
     "output_type": "execute_result"
    }
   ],
   "source": [
    "' '.join([i for i in s.split(' ') if i != ''])"
   ]
  },
  {
   "cell_type": "code",
   "execution_count": 56,
   "metadata": {
    "collapsed": false
   },
   "outputs": [],
   "source": [
    "def generate_final_corpus(filename,sanitise_fun,min_raw_threshold):\n",
    "    foreign_nos=0\n",
    "    ind=0\n",
    "    with codecs.open(filename,'w',encoding='utf8') as f:\n",
    "        recs = coops.find({'abstract': {'$exists': True}, '$where': \"this.abstract.length>0\"}).count()\n",
    "        for rec in coops.find({'abstract': {'$exists': True}, '$where': \"this.abstract.length>0\"}):\n",
    "            export = {'title':'','abstract':[]}\n",
    "            title = rec['title'] \n",
    "            abst = rec['abstract']\n",
    "            sents = abst.split(u'. ')\n",
    "            sents_lists = map(lambda sent: [i for i in sent.split(' ') if i != ''],sents)\n",
    "            sents = [' '.join(s) for s in sents_lists if len(s)>=min_raw_threshold]\n",
    "            foreign = False\n",
    "            k=0\n",
    "            for sent in sents:\n",
    "                if foreign:break\n",
    "                foreign = detect_foreign(sents[k])\n",
    "                k+=1\n",
    "            if foreign: foreign_nos+=1\n",
    "            if not foreign:\n",
    "                export['title'] = sanitise_fun(title)\n",
    "                export['abstract'] = [sanitise_fun(s) for s in sents]\n",
    "                ex = json.dumps(export)\n",
    "                f.write(ex)\n",
    "                f.write('\\n')\n",
    "            if ind%10000==0:\n",
    "                percent = int(100*float(ind)/recs)\n",
    "                sys.stdout.write('\\r[{0}] {1}%'.format('#'*(percent/10), percent))\n",
    "                sys.stdout.flush()\n",
    "            ind+=1\n",
    "    return foreign_nos"
   ]
  },
  {
   "cell_type": "code",
   "execution_count": 53,
   "metadata": {
    "collapsed": false
   },
   "outputs": [
    {
     "name": "stdout",
     "output_type": "stream",
     "text": [
      "[#########] 97%"
     ]
    }
   ],
   "source": [
    "san = lambda x: stemming_sanitise(x,max_stop,nltk.stem.snowball.EnglishStemmer())\n",
    "foreign_removals = generate_final_corpus('exp2.json',san,5)"
   ]
  },
  {
   "cell_type": "code",
   "execution_count": 52,
   "metadata": {
    "collapsed": false
   },
   "outputs": [],
   "source": [
    "def detect_foreign(sent):\n",
    "    foreign_param = 0.28\n",
    "    unicode_text=len(list(re.sub('[\\x00-\\x7f]', '',sent)))\n",
    "    word_text= len(list(sent.replace(' ','')))\n",
    "    unicode_fraction = float(unicode_text)/word_text \n",
    "    foreign_bool= unicode_fraction>foreign_param\n",
    "    if foreign_bool:\n",
    "        with codecs.open('no_nos_final.txt','a',encoding='utf8') as f:\n",
    "            f.write(sent)\n",
    "    return foreign_bool\n",
    "        "
   ]
  },
  {
   "cell_type": "code",
   "execution_count": 14,
   "metadata": {
    "collapsed": false
   },
   "outputs": [],
   "source": [
    "def remove_china(value):\n",
    "    fired=0\n",
    "    ind=0\n",
    "    print('starting run')\n",
    "    print()\n",
    "    f=codecs.open('no nos'+str(value)+'.txt','a',encoding='utf8')\n",
    "    recs = coops.find({'abstract': {'$exists': True}, '$where': \"this.abstract.length>0\"}).count()\n",
    "    for rec in coops.find({'abstract': {'$exists': True}, '$where': \"this.abstract.length>0\"}):\n",
    "        abst = rec['abstract']\n",
    "        sents = abst.split(u'. ')\n",
    "        sents_lists = map(lambda sent: [i for i in sent.split(' ') if i != ''],sents)\n",
    "        sents = [' '.join(s) for s in sents_lists if len(s)>=5]\n",
    "        for sent in sents:\n",
    "            chin=len(list(re.sub('[\\x00-\\x7f]', '',sent)))\n",
    "            word_c= len(list(sent.replace(' ','')))\n",
    "            chin_prob = float(chin)/word_c \n",
    "            if chin_prob>value:\n",
    "                fired+=1\n",
    "                f.write(sent + u'\\n')\n",
    "                #print(sent[0:60])\n",
    "        if ind%1000==0:\n",
    "            percent = int(100*float(ind)/recs)\n",
    "            sys.stdout.write('\\r[{0}] {1}% {2}'.format('#'*(percent/10), percent, ind))\n",
    "            sys.stdout.flush()\n",
    "        ind+=1\n",
    "    f.close()\n",
    "    return fired"
   ]
  },
  {
   "cell_type": "code",
   "execution_count": 23,
   "metadata": {
    "collapsed": false
   },
   "outputs": [
    {
     "name": "stdout",
     "output_type": "stream",
     "text": [
      "starting run\n",
      "()\n",
      "[#########] 99% 449000starting run\n",
      "()\n",
      "[#########] 99% 449000starting run\n",
      "()\n",
      "[#########] 99% 449000starting run\n",
      "()\n",
      "[#########] 99% 449000"
     ]
    }
   ],
   "source": [
    "values = [0.28,0.26,0.24,0.22]\n",
    "fireds = []\n",
    "for v in values:\n",
    "    fireds.append(remove_china(v))"
   ]
  },
  {
   "cell_type": "code",
   "execution_count": 69,
   "metadata": {
    "collapsed": false
   },
   "outputs": [
    {
     "name": "stdout",
     "output_type": "stream",
     "text": [
      "[#########] 99% 449000"
     ]
    }
   ],
   "source": [
    "word_lens = []\n",
    "ccc=Counter()\n",
    "ind=0\n",
    "recs = coops.find({'abstract': {'$exists': True}, '$where': \"this.abstract.length>0\"}).count()\n",
    "for rec in coops.find({'abstract': {'$exists': True}, '$where': \"this.abstract.length>0\"}):\n",
    "    abst = rec['abstract']\n",
    "    word_lens = [len(list(i)) for i in abst.split(u' ')]\n",
    "    ccc.update(word_lens)\n",
    "    if ind%1000==0:\n",
    "        percent = int(100*float(ind)/recs)\n",
    "        sys.stdout.write('\\r[{0}] {1}% {2}'.format('#'*(percent/10), percent, ind))\n",
    "        sys.stdout.flush()\n",
    "    ind+=1"
   ]
  },
  {
   "cell_type": "code",
   "execution_count": 16,
   "metadata": {
    "collapsed": false
   },
   "outputs": [
    {
     "data": {
      "text/plain": [
       "[193, 471, 698]"
      ]
     },
     "execution_count": 16,
     "metadata": {},
     "output_type": "execute_result"
    }
   ],
   "source": [
    "fireds"
   ]
  },
  {
   "cell_type": "code",
   "execution_count": 20,
   "metadata": {
    "collapsed": false
   },
   "outputs": [
    {
     "data": {
      "text/plain": [
       "[781, 815, 832, 845, 1000, 5096]"
      ]
     },
     "execution_count": 20,
     "metadata": {},
     "output_type": "execute_result"
    }
   ],
   "source": [
    "fireds"
   ]
  },
  {
   "cell_type": "code",
   "execution_count": 22,
   "metadata": {
    "collapsed": false
   },
   "outputs": [],
   "source": [
    "fireds = [193, 471, 698,781, 815, 832, 845, 1000, 5096]"
   ]
  },
  {
   "cell_type": "code",
   "execution_count": 24,
   "metadata": {
    "collapsed": false
   },
   "outputs": [
    {
     "data": {
      "text/plain": [
       "[850, 863, 887, 939]"
      ]
     },
     "execution_count": 24,
     "metadata": {},
     "output_type": "execute_result"
    }
   ],
   "source": [
    "fireds"
   ]
  },
  {
   "cell_type": "code",
   "execution_count": 25,
   "metadata": {
    "collapsed": true
   },
   "outputs": [],
   "source": [
    "# use chinese filter 0.28!"
   ]
  },
  {
   "cell_type": "code",
   "execution_count": 54,
   "metadata": {
    "collapsed": false
   },
   "outputs": [
    {
     "data": {
      "text/plain": [
       "778"
      ]
     },
     "execution_count": 54,
     "metadata": {},
     "output_type": "execute_result"
    }
   ],
   "source": [
    "foreign_removals"
   ]
  },
  {
   "cell_type": "code",
   "execution_count": null,
   "metadata": {
    "collapsed": true
   },
   "outputs": [],
   "source": []
  }
 ],
 "metadata": {
  "kernelspec": {
   "display_name": "Python 2",
   "language": "python",
   "name": "python2"
  },
  "language_info": {
   "codemirror_mode": {
    "name": "ipython",
    "version": 2
   },
   "file_extension": ".py",
   "mimetype": "text/x-python",
   "name": "python",
   "nbconvert_exporter": "python",
   "pygments_lexer": "ipython2",
   "version": "2.7.11"
  }
 },
 "nbformat": 4,
 "nbformat_minor": 0
}
