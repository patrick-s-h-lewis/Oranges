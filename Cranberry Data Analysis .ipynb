{
 "cells": [
  {
   "cell_type": "code",
   "execution_count": null,
   "metadata": {
    "collapsed": true
   },
   "outputs": [],
   "source": [
    "# Database loading and analysis"
   ]
  },
  {
   "cell_type": "code",
   "execution_count": 1,
   "metadata": {
    "collapsed": false
   },
   "outputs": [],
   "source": [
    "%matplotlib inline\n",
    "import json\n",
    "import pymongo\n",
    "from pymongo import MongoClient\n",
    "import matplotlib\n",
    "import numpy as np\n",
    "import matplotlib.pyplot as plt\n",
    "from collections import Counter\n",
    "import numpy"
   ]
  },
  {
   "cell_type": "code",
   "execution_count": 3,
   "metadata": {
    "collapsed": true
   },
   "outputs": [],
   "source": [
    "mongourl= 'mongodb://localhost:27017/'\n",
    "#mongourl= 'mongodb://localhost:6666/'\n",
    "client = MongoClient(mongourl)\n",
    "ca = client['Cherry']['Cranberry']"
   ]
  },
  {
   "cell_type": "code",
   "execution_count": 4,
   "metadata": {
    "collapsed": false
   },
   "outputs": [],
   "source": [
    "def pub_pi_chart():\n",
    "    curs = ca.find()\n",
    "    pubs = curs.distinct('publisher')\n",
    "    pubcounts = {p:0 for p in pubs}\n",
    "    for pub in pubs:\n",
    "        pubcounts[pub] = ca.find({'publisher':pub}).count()\n",
    "    pubcounts2 = {k:v for k,v in pubcounts.items() if v>10000}\n",
    "    pubcounts3 = {k:v for k,v in pubcounts.items() if v<=10000}\n",
    "    pubcounts2['others'] = sum(pubcounts3.values())\n",
    "    labels = pubcounts2.keys()\n",
    "    counts = [pubcounts2[p] for p in labels]\n",
    "    colours=[]\n",
    "    for name, d in matplotlib.colors.cnames.iteritems():\n",
    "        colours.append(name)\n",
    "    colors = colours[0:len(labels)]\n",
    "    patches, texts = plt.pie(counts, colors=colors,startangle=90)\n",
    "    plt.legend(patches, labels)\n",
    "    plt.axis('equal')\n",
    "    plt.tight_layout()\n",
    "    plt.show()"
   ]
  },
  {
   "cell_type": "code",
   "execution_count": 2,
   "metadata": {
    "collapsed": false
   },
   "outputs": [
    {
     "data": {
      "text/plain": [
       "\"raw = corp_analyse('raw_corpus.txt')\\nsecond = corp_analyse('second_corpus.txt')\\nthird = corp_analyse('third_corpus.txt')\\n\\nplt.plot(raw[0],raw[1],'r')\\nplt.plot(second[0],second[1],'g')\\nplt.plot(third[0],third[1],'b')\\n\\nplt.xlim([0,40])\""
      ]
     },
     "execution_count": 2,
     "metadata": {},
     "output_type": "execute_result"
    }
   ],
   "source": [
    "def corp_analyse(corpus_file_name):\n",
    "    lens = []\n",
    "    with open(corpus_file_name,'r') as f:\n",
    "        for line in f:\n",
    "            l = line.strip()\n",
    "            lens.append(len(l.split()))\n",
    "    c = Counter(lens)\n",
    "    words = [k*v for k,v in c.items()]\n",
    "    mean_title_len = (sum(words)*1.)/sum(c.values())\n",
    "    mode_title_len = c.values().index(max(c.values()))\n",
    "    return (c.keys(),c.values(),mean_title_len,mode_title_len)\n",
    "\n",
    "'''raw = corp_analyse('raw_corpus.txt')\n",
    "second = corp_analyse('second_corpus.txt')\n",
    "third = corp_analyse('third_corpus.txt')\n",
    "\n",
    "plt.plot(raw[0],raw[1],'r')\n",
    "plt.plot(second[0],second[1],'g')\n",
    "plt.plot(third[0],third[1],'b')\n",
    "\n",
    "plt.xlim([0,40])'''"
   ]
  },
  {
   "cell_type": "code",
   "execution_count": 7,
   "metadata": {
    "collapsed": false
   },
   "outputs": [
    {
     "data": {
      "text/plain": [
       "(0, 40)"
      ]
     },
     "execution_count": 7,
     "metadata": {},
     "output_type": "execute_result"
    },
    {
     "data": {
      "image/png": "[encoded data removed]",
      "text/plain": [
       "<matplotlib.figure.Figure at 0x10ee8f950>"
      ]
     },
     "metadata": {},
     "output_type": "display_data"
    }
   ],
   "source": [
    "raw = corp_analyse('raw_corpus.txt')\n",
    "second = corp_analyse('second_corpus.txt')\n",
    "p05 = corp_analyse('tfidf_filtered_0_05.txt')\n",
    "p1 = corp_analyse('tfidf_filtered_0_1.txt')\n",
    "p2 = corp_analyse('tfidf_filtered_0_2.txt')\n",
    "p3 = corp_analyse('tfidf_filtered_0_3.txt')\n",
    "p4 = corp_analyse('tfidf_filtered_0_4.txt')\n",
    "p5 = corp_analyse('tfidf_filtered_0_5.txt')\n",
    "p6 = corp_analyse('tfidf_filtered_0_6.txt')\n",
    "p7 = corp_analyse('tfidf_filtered_0_7.txt')\n",
    "p8 = corp_analyse('tfidf_filtered_0_8.txt')\n",
    "plt.plot(raw[0],raw[1],'r')\n",
    "plt.plot(second[0],second[1],'g')\n",
    "plt.plot(p05[0],p05[1],'b')\n",
    "plt.plot(p1[0],p1[1],'b')\n",
    "plt.plot(p2[0],p2[1],'b')\n",
    "plt.plot(p3[0],p3[1],'b')\n",
    "plt.plot(p4[0],p4[1],'b')\n",
    "plt.plot(p5[0],p5[1],'b')\n",
    "#plt.plot(p6[0],p6[1],'b')\n",
    "#plt.plot(p7[0],p7[1],'b')\n",
    "#plt.plot(p8[0],p8[1],'b')\n",
    "\n",
    "plt.xlim([0,40])"
   ]
  },
  {
   "cell_type": "code",
   "execution_count": 107,
   "metadata": {
    "collapsed": false
   },
   "outputs": [
    {
     "name": "stdout",
     "output_type": "stream",
     "text": [
      "grad : -0.978142009793 intercept :5.77603097474\n"
     ]
    },
    {
     "data": {
      "image/png": "[encoded data removed]",
      "text/plain": [
       "<matplotlib.figure.Figure at 0x132b39d90>"
      ]
     },
     "metadata": {},
     "output_type": "display_data"
    }
   ],
   "source": [
    "with open('ziphian.json') as f:\n",
    "    ziph = json.load(f)\n",
    "log_freq = [math.log(float(j),10) for i,j in ziph]\n",
    "log_rank = map(lambda x: math.log(float(x),10),range(1,len(ziph)+1))\n",
    "sample = []\n",
    "for s in np.arange(log_rank[0],log_rank[-1],log_rank[1]):\n",
    "    sample.append(log_rank.index(min(log_rank,key=lambda x:abs(x-s))))\n",
    "m1,c1 = numpy.polyfit([log_rank[s] for s in sample],[log_freq[s] for s in sample],1)\n",
    "line_freq = map(lambda x: m1*x+c1,log_rank)\n",
    "plt.plot(log_rank,log_freq,'r')\n",
    "plt.plot(log_rank,line_freq,'b')\n",
    "print('grad : ' + str(m1)+' intercept :' + str(c1))"
   ]
  },
  {
   "cell_type": "code",
   "execution_count": 6,
   "metadata": {
    "collapsed": false
   },
   "outputs": [
    {
     "name": "stdout",
     "output_type": "stream",
     "text": [
      "Using matplotlib backend: Qt4Agg\n"
     ]
    }
   ],
   "source": [
    "%matplotlib\n",
    "pub_pi_chart()\n"
   ]
  },
  {
   "cell_type": "code",
   "execution_count": null,
   "metadata": {
    "collapsed": true
   },
   "outputs": [],
   "source": []
  }
 ],
 "metadata": {
  "kernelspec": {
   "display_name": "Python 2",
   "language": "python",
   "name": "python2"
  },
  "language_info": {
   "codemirror_mode": {
    "name": "ipython",
    "version": 2
   },
   "file_extension": ".py",
   "mimetype": "text/x-python",
   "name": "python",
   "nbconvert_exporter": "python",
   "pygments_lexer": "ipython2",
   "version": "2.7.10"
  }
 },
 "nbformat": 4,
 "nbformat_minor": 0
}
