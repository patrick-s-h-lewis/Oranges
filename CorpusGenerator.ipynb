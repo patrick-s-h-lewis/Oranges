{
 "cells": [
  {
   "cell_type": "markdown",
   "metadata": {},
   "source": [
    "#Corpus Generator\n",
    "Generates a corpus for training using the titles of CamHarvestCollection"
   ]
  },
  {
   "cell_type": "code",
   "execution_count": 41,
   "metadata": {
    "collapsed": false
   },
   "outputs": [],
   "source": [
    "import pymongo\n",
    "from pymongo import MongoClient\n",
    "import nltk\n",
    "from nltk.corpus import stopwords\n",
    "import string\n",
    "import codecs\n",
    "import gensim \n",
    "punct_filter = dict((ord(char), u' ') for char in '\"#$%&\\'()*+,./-:;<=>?@[\\\\]^_`{|}')   \n",
    "stop = stopwords.words('english')\n",
    "mongo_url = 'mongodb://localhost:6666/'\n",
    "db = 'Cherry'\n",
    "coll_in = 'Cranberry'\n",
    "client = MongoClient(mongo_url)\n",
    "ch = client[db][coll_in]\n",
    "#corpusfile = 'corpus2.txt' \n"
   ]
  },
  {
   "cell_type": "code",
   "execution_count": 42,
   "metadata": {
    "collapsed": true
   },
   "outputs": [],
   "source": [
    "def sanitise(title):\n",
    "    lt = title.lower()\n",
    "    slt = lt.strip()\n",
    "    tslt = slt.translate(punct_filter)\n",
    "    stop_filtered = [i for i in tslt.split() if i not in stop]\n",
    "    export = u' '.join(stop_filtered)+u'\\n'\n",
    "    return export"
   ]
  },
  {
   "cell_type": "code",
   "execution_count": 43,
   "metadata": {
    "collapsed": true
   },
   "outputs": [
    {
     "name": "stdout",
     "output_type": "stream",
     "text": [
      "10000\n",
      "20000\n",
      "30000\n",
      "40000\n",
      "50000\n",
      "60000\n",
      "70000\n",
      "80000\n",
      "90000\n",
      "100000\n",
      "110000\n",
      "120000\n",
      "130000\n",
      "140000\n",
      "150000\n",
      "160000\n",
      "170000\n",
      "180000\n",
      "190000\n",
      "200000\n",
      "210000\n",
      "220000\n",
      "230000\n",
      "240000\n",
      "250000\n",
      "260000\n",
      "270000\n",
      "280000\n",
      "290000\n",
      "300000\n",
      "310000\n",
      "320000\n",
      "330000\n",
      "340000\n",
      "350000\n",
      "360000\n",
      "370000\n",
      "380000\n",
      "390000\n",
      "400000\n",
      "410000\n",
      "420000\n",
      "430000\n",
      "440000\n",
      "450000\n",
      "460000\n",
      "470000\n",
      "480000\n",
      "490000\n",
      "500000\n",
      "510000\n",
      "520000\n",
      "530000\n",
      "540000\n",
      "550000\n",
      "560000\n",
      "570000\n",
      "580000\n",
      "590000\n",
      "600000\n",
      "610000\n",
      "620000\n",
      "630000\n",
      "640000\n",
      "650000\n",
      "660000\n",
      "670000\n",
      "680000\n",
      "690000\n",
      "700000\n",
      "710000\n",
      "720000\n",
      "730000\n",
      "740000\n",
      "750000\n",
      "760000\n",
      "770000\n",
      "780000\n",
      "790000\n",
      "800000\n",
      "810000\n",
      "820000\n",
      "830000\n",
      "840000\n",
      "850000\n",
      "860000\n",
      "870000\n",
      "880000\n",
      "890000\n",
      "900000\n",
      "910000\n",
      "920000\n",
      "930000\n",
      "940000\n",
      "950000\n",
      "960000\n",
      "970000\n",
      "980000\n",
      "990000\n",
      "1000000\n",
      "1010000\n",
      "1020000\n",
      "1030000\n",
      "1040000\n",
      "1050000\n",
      "1060000\n",
      "1070000\n",
      "1080000\n",
      "1090000\n",
      "1100000\n",
      "1110000\n",
      "1120000\n",
      "1130000\n",
      "1140000\n",
      "1150000\n",
      "1160000\n",
      "1170000\n",
      "1180000\n",
      "1190000\n",
      "1200000\n",
      "1210000\n",
      "1220000\n",
      "1230000\n",
      "1240000\n",
      "1250000\n",
      "1260000\n"
     ]
    }
   ],
   "source": [
    "ind = 0 \n",
    "with codecs.open('second_corpus.txt','a',encoding='utf8') as f:\n",
    "    for rec in ch.find({'crossref_doi':True}):\n",
    "        f.write(sanitise(rec['title']))\n",
    "        ind+=1\n",
    "        if ind%10000==0:\n",
    "            print(ind)\n",
    "        "
   ]
  },
  {
   "cell_type": "code",
   "execution_count": 44,
   "metadata": {
    "collapsed": true
   },
   "outputs": [],
   "source": [
    "from gensim import corpora, models\n",
    "class GensimCorpus(object):\n",
    "    def __init__(self,corpus_text_file,diction):\n",
    "        self.corpus_text_file = corpus_text_file\n",
    "        self.dictionary = diction\n",
    "        \n",
    "    def __iter__(self):\n",
    "        for line in open(self.corpus_text_file):\n",
    "            yield self.dictionary.doc2bow(line.split())"
   ]
  },
  {
   "cell_type": "code",
   "execution_count": 45,
   "metadata": {
    "collapsed": false
   },
   "outputs": [
    {
     "name": "stdout",
     "output_type": "stream",
     "text": [
      "Dictionary(397552 unique tokens: [u'arylthiadiazole', u'nonlignin', u'cd120b', u'gai', u'cd120a']...)\n"
     ]
    }
   ],
   "source": [
    "dictionary = corpora.Dictionary(line.split() for line in open('second_corpus.txt'))\n",
    "print(dictionary)\n",
    "dictionary.save('second_dictionary')\n",
    "corp = GensimCorpus('second_corpus.txt',dictionary)"
   ]
  },
  {
   "cell_type": "code",
   "execution_count": 46,
   "metadata": {
    "collapsed": false
   },
   "outputs": [],
   "source": [
    "#dictionary = corpora.Dictionary.load('second_dictionary')\n",
    "corp = GensimCorpus('second_corpus.txt',dictionary)\n",
    "#corp.MmCorpus.serialise('first_gensim_corpus.mm')\n",
    "#corp = corpora.MmCorpus('first_gensim_corpus.mm')"
   ]
  },
  {
   "cell_type": "code",
   "execution_count": 47,
   "metadata": {
    "collapsed": false
   },
   "outputs": [
    {
     "name": "stdout",
     "output_type": "stream",
     "text": [
      "[]\n",
      "[(97, 0.2922344241655049), (563, 0.18312127037364823), (770, 0.2272781323236006), (912, 0.24548312386595), (1305, 0.38806328517504785), (2331, 0.45155577118932844), (2685, 0.2577326633071351), (7983, 0.481926119667709), (8157, 0.2235810560086245), (9455, 0.25687584779299943)]\n",
      "[(182, 0.1828008898715873), (1659, 0.2699530129103108), (2121, 0.23402843685498653), (8361, 0.4248254427427766), (8904, 0.34554364148673117), (111250, 0.7342089833640734)]\n",
      "[(0, 0.1950533171402529), (96, 0.3519984397362265), (97, 0.34908919493193963), (1939, 0.5107419715114097), (6505, 0.674781945827135)]\n",
      "[(421, 0.19319905595273124), (539, 0.13919639196191752), (760, 0.17088514566287968), (1446, 0.11429403792726144), (1976, 0.1710449607534207), (2296, 0.22070909532743754), (3656, 0.2715318615245086), (10465, 0.3144799065206336), (17989, 0.30859126721958136), (22977, 0.3091010092595135), (76714, 0.46647514430311504), (160806, 0.492002558895968)]\n",
      "[(0, 0.06452015740946546), (263, 0.18717877129338173), (4622, 0.11797030552153563), (6313, 0.18890533344546329), (15277, 0.2614710253164099), (41883, 0.28100820373686247), (68698, 0.2829507727671862), (79239, 0.3261665442229056), (93399, 0.25190041146397535), (106233, 0.2973689648764774), (109392, 0.6523330884458112)]\n",
      "[(2455, 0.38476422911591485), (3275, 0.3311560467354692), (4721, 0.3494498333437811), (7850, 0.4876278219983343), (8822, 0.4476974177390457), (9879, 0.42657133523283836)]\n",
      "[(440, 0.10794954405596256), (2441, 0.19777166883588845), (3488, 0.26954706789334193), (4058, 0.24320223349000358), (6327, 0.26118306802634017), (8786, 0.3506595427997382), (76434, 0.506640052445327), (263425, 0.6079206050444222)]\n",
      "[(1053, 0.24229435037000951), (1997, 0.31168370191479516), (3658, 0.18736784691599542), (4260, 0.1861084669442322), (7658, 0.2974320796875848), (19706, 0.4259129744169263), (27315, 0.34780186596745205), (33727, 0.5123370595303078), (43544, 0.347966294158841)]\n",
      "[(440, 0.12177271565601958), (1082, 0.19852650170273334), (1097, 0.25589577697582394), (1450, 0.14424351050227266), (1502, 0.27889753176608906), (2426, 0.2347678071989881), (5803, 0.22521916595757452), (7044, 0.3187999451153273), (7293, 0.3225980948700314), (8477, 0.35844946624861906), (8788, 0.4317703423024498), (99578, 0.3939946464677983)]\n",
      "[(2470, 0.1958872116625087), (2489, 0.1754425500323381), (2546, 0.23173620281774707), (3022, 0.2954349823323352), (4058, 0.21635777687195895), (6155, 0.2728204813299177), (9750, 0.3237220698592917), (15894, 0.27756956228018737), (16936, 0.35604709125647205), (348589, 0.6000104509143859)]\n",
      "[(182, 0.12804771694876393), (1404, 0.14328089284384646), (2122, 0.21718385611305074), (2191, 0.20602342045341435), (2561, 0.15575116340931358), (4355, 0.21679198208802186), (6408, 0.2713829765941051), (6516, 0.2919930063207196), (7986, 0.2823181469740292), (9084, 0.4367283122926108), (9838, 0.2773932223626499), (16757, 0.4237751301548231), (25520, 0.341066783860655)]\n"
     ]
    }
   ],
   "source": [
    "tfidf = models.TfidfModel(corp)\n",
    "tfidf_corp = tfidf[corp]\n",
    "i = 0\n",
    "for doc in tfidf_corp:\n",
    "    d=doc\n",
    "    i+=1\n",
    "    if i%100000==0:\n",
    "        print(doc)\n",
    "tfidf.save('second_tfidf')"
   ]
  },
  {
   "cell_type": "code",
   "execution_count": 53,
   "metadata": {
    "collapsed": false
   },
   "outputs": [
    {
     "name": "stdout",
     "output_type": "stream",
     "text": [
      "0\n",
      "200000\n",
      "300000\n"
     ]
    }
   ],
   "source": [
    "i=0\n",
    "meaning_threshold = 0.3\n",
    "with codecs.open('third_corpus.txt','a',encoding='utf8') as f:\n",
    "    for doc in tfidf_corp:\n",
    "        if i%100000 == 0:\n",
    "            print(i)\n",
    "        f.write(' '.join([dictionary[i] for i,j in doc if i>=meaning_threshold]))\n",
    "        f.write('\\n')\n",
    "        i+=1"
   ]
  },
  {
   "cell_type": "code",
   "execution_count": 31,
   "metadata": {
    "collapsed": false
   },
   "outputs": [
    {
     "data": {
      "text/plain": [
       "u'Chemistry'"
      ]
     },
     "execution_count": 31,
     "metadata": {},
     "output_type": "execute_result"
    }
   ],
   "source": [
    "dictionary[0]"
   ]
  },
  {
   "cell_type": "code",
   "execution_count": 35,
   "metadata": {
    "collapsed": false
   },
   "outputs": [
    {
     "data": {
      "text/plain": [
       "[(16, 1.0)]"
      ]
     },
     "execution_count": 35,
     "metadata": {},
     "output_type": "execute_result"
    }
   ],
   "source": [
    "tfidf[dictionary.doc2bow([\"chemistry\"])]"
   ]
  },
  {
   "cell_type": "code",
   "execution_count": 36,
   "metadata": {
    "collapsed": false
   },
   "outputs": [
    {
     "data": {
      "text/plain": [
       "[(0, 1)]"
      ]
     },
     "execution_count": 36,
     "metadata": {},
     "output_type": "execute_result"
    }
   ],
   "source": [
    "dictionary.doc2bow([\"Chemistry\"])"
   ]
  },
  {
   "cell_type": "code",
   "execution_count": 37,
   "metadata": {
    "collapsed": false
   },
   "outputs": [
    {
     "data": {
      "text/plain": [
       "u'Chemistry'"
      ]
     },
     "execution_count": 37,
     "metadata": {},
     "output_type": "execute_result"
    }
   ],
   "source": [
    "dictionary[0]"
   ]
  },
  {
   "cell_type": "code",
   "execution_count": null,
   "metadata": {
    "collapsed": true
   },
   "outputs": [],
   "source": []
  }
 ],
 "metadata": {
  "kernelspec": {
   "display_name": "Python 2",
   "language": "python",
   "name": "python2"
  },
  "language_info": {
   "codemirror_mode": {
    "name": "ipython",
    "version": 2
   },
   "file_extension": ".py",
   "mimetype": "text/x-python",
   "name": "python",
   "nbconvert_exporter": "python",
   "pygments_lexer": "ipython2",
   "version": "2.7.6"
  }
 },
 "nbformat": 4,
 "nbformat_minor": 0
}
