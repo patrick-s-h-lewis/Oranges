{
 "cells": [
  {
   "cell_type": "markdown",
   "metadata": {},
   "source": [
    "#Corpus Generator\n",
    "Generates a corpus for training using the titles of CamHarvestCollection"
   ]
  },
  {
   "cell_type": "code",
   "execution_count": 1,
   "metadata": {
    "collapsed": false
   },
   "outputs": [],
   "source": [
    "import pymongo\n",
    "from pymongo import MongoClient\n",
    "import nltk\n",
    "from nltk.corpus import stopwords\n",
    "import string\n",
    "import codecs\n",
    "import gensim \n",
    "from gensim import corpora, models\n",
    "punct_filter = dict((ord(char), u' ') for char in '\"#$%&\\'()*+,./-:;<=>?@[\\\\]^_`{|}')   \n",
    "stop = stopwords.words('english')\n",
    "mongo_url = 'mongodb://localhost:6666/'\n",
    "db = 'Cherry'\n",
    "coll_in = 'Cranberry'\n",
    "client = MongoClient(mongo_url)\n",
    "ch = client[db][coll_in]\n",
    "#corpusfile = 'corpus2.txt' \n"
   ]
  },
  {
   "cell_type": "code",
   "execution_count": 2,
   "metadata": {
    "collapsed": false
   },
   "outputs": [],
   "source": [
    "def raw_corpus_generator():\n",
    "    ind = 0 \n",
    "    with codecs.open('raw_corpus.txt','a',encoding='utf8') as f:\n",
    "        for rec in ch.find({'crossref_doi':True}):\n",
    "            lt = rec['title'].lower()\n",
    "            slt = lt.strip()\n",
    "            tslt = slt.translate(punct_filter)\n",
    "            export = tslt+u'\\n'\n",
    "            f.write(export)\n",
    "            ind+=1\n",
    "            if ind%100000==0:\n",
    "                print(ind)\n",
    "\n",
    "def sanitise(title):\n",
    "    lt = title.lower()\n",
    "    slt = lt.strip()\n",
    "    tslt = slt.translate(punct_filter)\n",
    "    stop_filtered = [i for i in tslt.split() if i not in stop]\n",
    "    export = u' '.join(stop_filtered)+u'\\n'\n",
    "    return export\n",
    "\n",
    "def create_stopword_filtered_corpus():\n",
    "    ind = 0 \n",
    "    with codecs.open('second_corpus.txt','a',encoding='utf8') as f:\n",
    "        for rec in ch.find({'crossref_doi':True}):\n",
    "            f.write(sanitise(rec['title']))\n",
    "            ind+=1\n",
    "            if ind%10000==0:\n",
    "                print(ind)"
   ]
  },
  {
   "cell_type": "code",
   "execution_count": 3,
   "metadata": {
    "collapsed": true
   },
   "outputs": [],
   "source": [
    "class GensimCorpus(object):\n",
    "    def __init__(self,corpus_text_file,diction):\n",
    "        self.corpus_text_file = corpus_text_file\n",
    "        self.dictionary = diction\n",
    "        \n",
    "    def __iter__(self):\n",
    "        for line in open(self.corpus_text_file):\n",
    "            yield self.dictionary.doc2bow(line.split())\n",
    "\n",
    "def dictionary_generator(corpus_file):\n",
    "    dictionary = corpora.Dictionary(line.split() for line in open(corpus_file))\n",
    "    return dictionary"
   ]
  },
  {
   "cell_type": "code",
   "execution_count": 4,
   "metadata": {
    "collapsed": false
   },
   "outputs": [],
   "source": [
    "#dictionary = dictionary_generator('second_corpus.txt')\n",
    "dictionary = corpora.Dictionary.load('second_dictionary')\n",
    "corp = GensimCorpus('second_corpus.txt',dictionary)\n",
    "tfidf = models.TfidfModel(corp)\n",
    "tfidf_corp = tfidf[corp]\n",
    "#tfidf.save('second_tfidf')"
   ]
  },
  {
   "cell_type": "code",
   "execution_count": 5,
   "metadata": {
    "collapsed": false
   },
   "outputs": [],
   "source": [
    "def tfidf_filtered_corpus_generator(threshold):\n",
    "    corpus_filename = 'tfidf_filtered_'+str(threshold).strip('.')+'.txt'\n",
    "    ind=0\n",
    "    with codecs.open(corpus_filename,'a',encoding='utf8') as f:\n",
    "        for doc in tfidf_corp:\n",
    "            if ind%500000 == 0:\n",
    "                print(ind)\n",
    "            f.write(' '.join([dictionary[i] for i,j in doc if j>=threshold]))\n",
    "            f.write('\\n')\n",
    "            ind+=1"
   ]
  },
  {
   "cell_type": "code",
   "execution_count": 6,
   "metadata": {
    "collapsed": false
   },
   "outputs": [
    {
     "name": "stdout",
     "output_type": "stream",
     "text": [
      "0\n",
      "500000\n",
      "1000000\n",
      "corpus generated\n",
      "0\n",
      "500000\n",
      "1000000\n",
      "corpus generated\n",
      "0\n",
      "500000\n",
      "1000000\n",
      "corpus generated\n",
      "0\n",
      "500000\n",
      "1000000\n",
      "corpus generated\n",
      "0\n",
      "500000\n",
      "1000000\n",
      "corpus generated\n",
      "0\n",
      "500000\n",
      "1000000\n",
      "corpus generated\n",
      "0\n",
      "500000\n",
      "1000000\n",
      "corpus generated\n",
      "0\n",
      "500000\n",
      "1000000\n",
      "corpus generated\n",
      "0\n",
      "500000\n",
      "1000000\n",
      "corpus generated\n"
     ]
    }
   ],
   "source": [
    "samples = [0.05,0.1,0.2,0.3,0.4,0.5,0.6,0.7,0.8]\n",
    "for samp in samples:\n",
    "    tfidf_filtered_corpus_generator(samp)\n",
    "    print('corpus generated')"
   ]
  },
  {
   "cell_type": "code",
   "execution_count": null,
   "metadata": {
    "collapsed": true
   },
   "outputs": [],
   "source": []
  }
 ],
 "metadata": {
  "kernelspec": {
   "display_name": "Python 2",
   "language": "python",
   "name": "python2"
  },
  "language_info": {
   "codemirror_mode": {
    "name": "ipython",
    "version": 2
   },
   "file_extension": ".py",
   "mimetype": "text/x-python",
   "name": "python",
   "nbconvert_exporter": "python",
   "pygments_lexer": "ipython2",
   "version": "2.7.6"
  }
 },
 "nbformat": 4,
 "nbformat_minor": 0
}
